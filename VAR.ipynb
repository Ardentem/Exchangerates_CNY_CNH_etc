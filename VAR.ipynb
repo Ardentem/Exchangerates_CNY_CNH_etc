{
 "cells": [
  {
   "cell_type": "code",
   "execution_count": 1,
   "metadata": {},
   "outputs": [],
   "source": [
    "import numpy as np\n",
    "import pandas as pd\n",
    "import BasicModel as bm\n",
    "import statsmodels.tsa as ts\n",
    "import statsmodels.tsa.stattools as tst\n",
    "from statsmodels.tsa.api import VAR"
   ]
  },
  {
   "cell_type": "code",
   "execution_count": 2,
   "metadata": {},
   "outputs": [
    {
     "name": "stdout",
     "output_type": "stream",
     "text": [
      "Iteration:      1,   Func. Count:      8,   Neg. LLF: 306604084419751.6\n",
      "Iteration:      2,   Func. Count:     25,   Neg. LLF: 13133066.40239843\n",
      "Optimization terminated successfully    (Exit mode 0)\n",
      "            Current function value: -4088.9977206015874\n",
      "            Iterations: 3\n",
      "            Function evaluations: 34\n",
      "            Gradient evaluations: 2\n",
      "Iteration:      1,   Func. Count:      9,   Neg. LLF: 651697002793623.6\n",
      "Iteration:      2,   Func. Count:     25,   Neg. LLF: -3765.1839695777144\n",
      "Inequality constraints incompatible    (Exit mode 4)\n",
      "            Current function value: -3765.1839661190606\n",
      "            Iterations: 2\n",
      "            Function evaluations: 25\n",
      "            Gradient evaluations: 2\n",
      "Iteration:      1,   Func. Count:      8,   Neg. LLF: -3880.054438830734\n",
      "Inequality constraints incompatible    (Exit mode 4)\n",
      "            Current function value: -3880.0544387709824\n",
      "            Iterations: 1\n",
      "            Function evaluations: 8\n",
      "            Gradient evaluations: 1\n"
     ]
    },
    {
     "name": "stderr",
     "output_type": "stream",
     "text": [
      "c:\\Users\\86177\\anaconda3\\lib\\site-packages\\arch\\univariate\\base.py:310: DataScaleWarning: y is poorly scaled, which may affect convergence of the optimizer when\n",
      "estimating the model parameters. The scale of y is 4.135e-07. Parameter\n",
      "estimation work better when this value is between 1 and 1000. The recommended\n",
      "rescaling is 1000 * y.\n",
      "\n",
      "This warning can be disabled by either rescaling y before initializing the\n",
      "model or by setting rescale=False.\n",
      "\n",
      "  warnings.warn(\n",
      "c:\\Users\\86177\\anaconda3\\lib\\site-packages\\arch\\univariate\\base.py:310: DataScaleWarning: y is poorly scaled, which may affect convergence of the optimizer when\n",
      "estimating the model parameters. The scale of y is 1.326e-06. Parameter\n",
      "estimation work better when this value is between 1 and 1000. The recommended\n",
      "rescaling is 1000 * y.\n",
      "\n",
      "This warning can be disabled by either rescaling y before initializing the\n",
      "model or by setting rescale=False.\n",
      "\n",
      "  warnings.warn(\n",
      "c:\\Users\\86177\\anaconda3\\lib\\site-packages\\arch\\univariate\\base.py:765: ConvergenceWarning: The optimizer returned code 4. The message is:\n",
      "Inequality constraints incompatible\n",
      "See scipy.optimize.fmin_slsqp for code meaning.\n",
      "\n",
      "  warnings.warn(\n",
      "c:\\Users\\86177\\anaconda3\\lib\\site-packages\\arch\\univariate\\base.py:310: DataScaleWarning: y is poorly scaled, which may affect convergence of the optimizer when\n",
      "estimating the model parameters. The scale of y is 7.77e-07. Parameter\n",
      "estimation work better when this value is between 1 and 1000. The recommended\n",
      "rescaling is 1000 * y.\n",
      "\n",
      "This warning can be disabled by either rescaling y before initializing the\n",
      "model or by setting rescale=False.\n",
      "\n",
      "  warnings.warn(\n",
      "c:\\Users\\86177\\anaconda3\\lib\\site-packages\\arch\\univariate\\base.py:765: ConvergenceWarning: The optimizer returned code 4. The message is:\n",
      "Inequality constraints incompatible\n",
      "See scipy.optimize.fmin_slsqp for code meaning.\n",
      "\n",
      "  warnings.warn(\n"
     ]
    }
   ],
   "source": [
    "#获取三个市场的基本数据\n",
    "fc = bm.basicmodel()\n",
    "fc.ret(start='2012-08-01',end='2015-08-01')\n",
    "fc.AR_GARCH(model_lags=[[5,10],[1,2,5],[1,2,10]])"
   ]
  },
  {
   "cell_type": "code",
   "execution_count": 7,
   "metadata": {},
   "outputs": [
    {
     "name": "stdout",
     "output_type": "stream",
     "text": [
      "Iteration:      1,   Func. Count:      7,   Neg. LLF: -8205.41195669338\n",
      "Inequality constraints incompatible    (Exit mode 4)\n",
      "            Current function value: -8205.411949187528\n",
      "            Iterations: 1\n",
      "            Function evaluations: 7\n",
      "            Gradient evaluations: 1\n",
      "Iteration:      1,   Func. Count:      9,   Neg. LLF: 3027863282306.793\n",
      "Iteration:      2,   Func. Count:     26,   Neg. LLF: 4.953510310466955e+18\n",
      "Optimization terminated successfully    (Exit mode 0)\n",
      "            Current function value: -7793.341938282474\n",
      "            Iterations: 3\n",
      "            Function evaluations: 35\n",
      "            Gradient evaluations: 2\n",
      "Iteration:      1,   Func. Count:      8,   Neg. LLF: 4001950834411.649\n",
      "Iteration:      2,   Func. Count:     23,   Neg. LLF: -7759.8072560119745\n",
      "Optimization terminated successfully    (Exit mode 0)\n",
      "            Current function value: -7759.807259482883\n",
      "            Iterations: 6\n",
      "            Function evaluations: 23\n",
      "            Gradient evaluations: 2\n"
     ]
    },
    {
     "name": "stderr",
     "output_type": "stream",
     "text": [
      "c:\\Users\\86177\\anaconda3\\lib\\site-packages\\arch\\univariate\\base.py:310: DataScaleWarning: y is poorly scaled, which may affect convergence of the optimizer when\n",
      "estimating the model parameters. The scale of y is 6.802e-06. Parameter\n",
      "estimation work better when this value is between 1 and 1000. The recommended\n",
      "rescaling is 1000 * y.\n",
      "\n",
      "This warning can be disabled by either rescaling y before initializing the\n",
      "model or by setting rescale=False.\n",
      "\n",
      "  warnings.warn(\n",
      "c:\\Users\\86177\\anaconda3\\lib\\site-packages\\arch\\univariate\\base.py:765: ConvergenceWarning: The optimizer returned code 4. The message is:\n",
      "Inequality constraints incompatible\n",
      "See scipy.optimize.fmin_slsqp for code meaning.\n",
      "\n",
      "  warnings.warn(\n",
      "c:\\Users\\86177\\anaconda3\\lib\\site-packages\\arch\\univariate\\base.py:310: DataScaleWarning: y is poorly scaled, which may affect convergence of the optimizer when\n",
      "estimating the model parameters. The scale of y is 1.001e-05. Parameter\n",
      "estimation work better when this value is between 1 and 1000. The recommended\n",
      "rescaling is 100 * y.\n",
      "\n",
      "This warning can be disabled by either rescaling y before initializing the\n",
      "model or by setting rescale=False.\n",
      "\n",
      "  warnings.warn(\n",
      "c:\\Users\\86177\\anaconda3\\lib\\site-packages\\arch\\univariate\\base.py:310: DataScaleWarning: y is poorly scaled, which may affect convergence of the optimizer when\n",
      "estimating the model parameters. The scale of y is 1.072e-05. Parameter\n",
      "estimation work better when this value is between 1 and 1000. The recommended\n",
      "rescaling is 100 * y.\n",
      "\n",
      "This warning can be disabled by either rescaling y before initializing the\n",
      "model or by setting rescale=False.\n",
      "\n",
      "  warnings.warn(\n"
     ]
    }
   ],
   "source": [
    "fc = bm.basicmodel()\n",
    "fc.ret(start='2015-09-01',end='2023-09-01')\n",
    "fc.AR_GARCH(model_lags=[[1,3],[1,6,12],[1,3]])"
   ]
  },
  {
   "cell_type": "code",
   "execution_count": 8,
   "metadata": {},
   "outputs": [
    {
     "name": "stderr",
     "output_type": "stream",
     "text": [
      "c:\\Users\\86177\\anaconda3\\lib\\site-packages\\statsmodels\\tsa\\base\\tsa_model.py:471: ValueWarning: A date index has been provided, but it has no associated frequency information and so will be ignored when e.g. forecasting.\n",
      "  self._init_dates(dates, freq)\n"
     ]
    }
   ],
   "source": [
    "var_model = VAR(fc.std_index)\n",
    "var_res = var_model.fit(7)"
   ]
  },
  {
   "cell_type": "code",
   "execution_count": 9,
   "metadata": {},
   "outputs": [
    {
     "data": {
      "text/plain": [
       "  Summary of Regression Results   \n",
       "==================================\n",
       "Model:                         VAR\n",
       "Method:                        OLS\n",
       "Date:           Mon, 27, Nov, 2023\n",
       "Time:                     15:28:03\n",
       "--------------------------------------------------------------------\n",
       "No. of Equations:         3.00000    BIC:                   -1.48886\n",
       "Nobs:                     1759.00    HQIC:                  -1.61831\n",
       "Log likelihood:          -5931.69    FPE:                   0.183748\n",
       "AIC:                     -1.69420    Det(Omega_mle):        0.177022\n",
       "--------------------------------------------------------------------\n",
       "Results for equation CNY\n",
       "=========================================================================\n",
       "            coefficient       std. error           t-stat            prob\n",
       "-------------------------------------------------------------------------\n",
       "const         -0.071504         0.020125           -3.553           0.000\n",
       "L1.CNY        -0.532943         0.029929          -17.807           0.000\n",
       "L1.CNH         0.144913         0.033920            4.272           0.000\n",
       "L1.NDF         0.610128         0.028444           21.450           0.000\n",
       "L2.CNY        -0.296632         0.033214           -8.931           0.000\n",
       "L2.CNH         0.045674         0.037403            1.221           0.222\n",
       "L2.NDF         0.357718         0.035253           10.147           0.000\n",
       "L3.CNY        -0.170238         0.033997           -5.007           0.000\n",
       "L3.CNH        -0.067736         0.038015           -1.782           0.075\n",
       "L3.NDF         0.294093         0.036851            7.981           0.000\n",
       "L4.CNY        -0.137352         0.034009           -4.039           0.000\n",
       "L4.CNH        -0.039665         0.038118           -1.041           0.298\n",
       "L4.NDF         0.203481         0.037542            5.420           0.000\n",
       "L5.CNY        -0.115937         0.033489           -3.462           0.001\n",
       "L5.CNH         0.025879         0.038064            0.680           0.497\n",
       "L5.NDF         0.141576         0.037361            3.789           0.000\n",
       "L6.CNY        -0.022810         0.031888           -0.715           0.474\n",
       "L6.CNH         0.015043         0.037405            0.402           0.688\n",
       "L6.NDF         0.076247         0.036332            2.099           0.036\n",
       "L7.CNY         0.008293         0.026043            0.318           0.750\n",
       "L7.CNH        -0.025095         0.033436           -0.751           0.453\n",
       "L7.NDF         0.049715         0.032408            1.534           0.125\n",
       "=========================================================================\n",
       "\n",
       "Results for equation CNH\n",
       "=========================================================================\n",
       "            coefficient       std. error           t-stat            prob\n",
       "-------------------------------------------------------------------------\n",
       "const          0.013224         0.022862            0.578           0.563\n",
       "L1.CNY        -0.117704         0.033999           -3.462           0.001\n",
       "L1.CNH        -0.395677         0.038532          -10.269           0.000\n",
       "L1.NDF         0.630464         0.032312           19.512           0.000\n",
       "L2.CNY        -0.085420         0.037731           -2.264           0.024\n",
       "L2.CNH        -0.154392         0.042490           -3.634           0.000\n",
       "L2.NDF         0.260368         0.040047            6.502           0.000\n",
       "L3.CNY        -0.075729         0.038620           -1.961           0.050\n",
       "L3.CNH        -0.099529         0.043184           -2.305           0.021\n",
       "L3.NDF         0.174350         0.041863            4.165           0.000\n",
       "L4.CNY        -0.047644         0.038634           -1.233           0.217\n",
       "L4.CNH        -0.032290         0.043301           -0.746           0.456\n",
       "L4.NDF         0.124284         0.042647            2.914           0.004\n",
       "L5.CNY        -0.045683         0.038043           -1.201           0.230\n",
       "L5.CNH        -0.009825         0.043240           -0.227           0.820\n",
       "L5.NDF         0.105348         0.042442            2.482           0.013\n",
       "L6.CNY        -0.005932         0.036225           -0.164           0.870\n",
       "L6.CNH        -0.011389         0.042492           -0.268           0.789\n",
       "L6.NDF         0.016204         0.041272            0.393           0.695\n",
       "L7.CNY        -0.023676         0.029585           -0.800           0.424\n",
       "L7.CNH        -0.032754         0.037983           -0.862           0.389\n",
       "L7.NDF         0.016482         0.036815            0.448           0.654\n",
       "=========================================================================\n",
       "\n",
       "Results for equation NDF\n",
       "=========================================================================\n",
       "            coefficient       std. error           t-stat            prob\n",
       "-------------------------------------------------------------------------\n",
       "const          0.016072         0.024693            0.651           0.515\n",
       "L1.CNY         0.014359         0.036722            0.391           0.696\n",
       "L1.CNH         0.015082         0.041618            0.362           0.717\n",
       "L1.NDF         0.020208         0.034900            0.579           0.563\n",
       "L2.CNY         0.006605         0.040753            0.162           0.871\n",
       "L2.CNH         0.074581         0.045892            1.625           0.104\n",
       "L2.NDF        -0.041397         0.043254           -0.957           0.339\n",
       "L3.CNY         0.007258         0.041713            0.174           0.862\n",
       "L3.CNH         0.021031         0.046642            0.451           0.652\n",
       "L3.NDF        -0.042899         0.045215           -0.949           0.343\n",
       "L4.CNY        -0.002704         0.041728           -0.065           0.948\n",
       "L4.CNH         0.056070         0.046769            1.199           0.231\n",
       "L4.NDF        -0.033251         0.046063           -0.722           0.470\n",
       "L5.CNY        -0.002458         0.041090           -0.060           0.952\n",
       "L5.CNH         0.050478         0.046703            1.081           0.280\n",
       "L5.NDF        -0.020983         0.045841           -0.458           0.647\n",
       "L6.CNY        -0.031287         0.039126           -0.800           0.424\n",
       "L6.CNH         0.073082         0.045894            1.592           0.111\n",
       "L6.NDF        -0.047214         0.044578           -1.059           0.290\n",
       "L7.CNY        -0.016085         0.031954           -0.503           0.615\n",
       "L7.CNH         0.032908         0.041025            0.802           0.422\n",
       "L7.NDF        -0.007354         0.039763           -0.185           0.853\n",
       "=========================================================================\n",
       "\n",
       "Correlation matrix of residuals\n",
       "            CNY       CNH       NDF\n",
       "CNY    1.000000  0.598518  0.462634\n",
       "CNH    0.598518  1.000000  0.726127\n",
       "NDF    0.462634  0.726127  1.000000\n",
       "\n"
      ]
     },
     "execution_count": 9,
     "metadata": {},
     "output_type": "execute_result"
    }
   ],
   "source": [
    "var_res.summary()"
   ]
  }
 ],
 "metadata": {
  "kernelspec": {
   "display_name": "base",
   "language": "python",
   "name": "python3"
  },
  "language_info": {
   "codemirror_mode": {
    "name": "ipython",
    "version": 3
   },
   "file_extension": ".py",
   "mimetype": "text/x-python",
   "name": "python",
   "nbconvert_exporter": "python",
   "pygments_lexer": "ipython3",
   "version": "3.9.12"
  }
 },
 "nbformat": 4,
 "nbformat_minor": 2
}
