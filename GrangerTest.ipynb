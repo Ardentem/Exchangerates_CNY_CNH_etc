{
 "cells": [
  {
   "cell_type": "code",
   "execution_count": 1,
   "metadata": {},
   "outputs": [],
   "source": [
    "import numpy as np\n",
    "import pandas as pd\n",
    "import BasicModel as bm\n",
    "from statsmodels.tsa.api import VAR\n",
    "from statsmodels.tsa.stattools import grangercausalitytests"
   ]
  },
  {
   "cell_type": "code",
   "execution_count": 162,
   "metadata": {},
   "outputs": [
    {
     "name": "stdout",
     "output_type": "stream",
     "text": [
      "Iteration:      1,   Func. Count:      6,   Neg. LLF: -2618.905264873367\n",
      "Inequality constraints incompatible    (Exit mode 4)\n",
      "            Current function value: -2618.9052652253695\n",
      "            Iterations: 1\n",
      "            Function evaluations: 6\n",
      "            Gradient evaluations: 1\n",
      "Iteration:      1,   Func. Count:      7,   Neg. LLF: 5628214106797739.0\n",
      "Iteration:      2,   Func. Count:     22,   Neg. LLF: 3322488190297517.0\n",
      "Iteration:      3,   Func. Count:     34,   Neg. LLF: 5.423050007298206e+20\n",
      "Iteration:      4,   Func. Count:     49,   Neg. LLF: 7.970336144262167e+20\n",
      "Iteration:      5,   Func. Count:     65,   Neg. LLF: 28837125183904.984\n",
      "Iteration:      6,   Func. Count:     79,   Neg. LLF: 6.261732885524452e+20\n",
      "Iteration:      7,   Func. Count:     95,   Neg. LLF: 3.3017432761404326e+23\n",
      "Iteration:      8,   Func. Count:    108,   Neg. LLF: -2427.407010685405\n",
      "Optimization terminated successfully    (Exit mode 0)\n",
      "            Current function value: -2427.4070107504126\n",
      "            Iterations: 12\n",
      "            Function evaluations: 108\n",
      "            Gradient evaluations: 8\n",
      "Iteration:      1,   Func. Count:      6,   Neg. LLF: -2475.994286060045\n",
      "Inequality constraints incompatible    (Exit mode 4)\n",
      "            Current function value: -2475.9942880692834\n",
      "            Iterations: 1\n",
      "            Function evaluations: 6\n",
      "            Gradient evaluations: 1\n"
     ]
    },
    {
     "name": "stderr",
     "output_type": "stream",
     "text": [
      "c:\\Users\\86177\\anaconda3\\lib\\site-packages\\arch\\univariate\\base.py:310: DataScaleWarning: y is poorly scaled, which may affect convergence of the optimizer when\n",
      "estimating the model parameters. The scale of y is 8.224e-07. Parameter\n",
      "estimation work better when this value is between 1 and 1000. The recommended\n",
      "rescaling is 1000 * y.\n",
      "\n",
      "This warning can be disabled by either rescaling y before initializing the\n",
      "model or by setting rescale=False.\n",
      "\n",
      "  warnings.warn(\n",
      "c:\\Users\\86177\\anaconda3\\lib\\site-packages\\arch\\univariate\\base.py:765: ConvergenceWarning: The optimizer returned code 4. The message is:\n",
      "Inequality constraints incompatible\n",
      "See scipy.optimize.fmin_slsqp for code meaning.\n",
      "\n",
      "  warnings.warn(\n",
      "c:\\Users\\86177\\anaconda3\\lib\\site-packages\\arch\\univariate\\base.py:310: DataScaleWarning: y is poorly scaled, which may affect convergence of the optimizer when\n",
      "estimating the model parameters. The scale of y is 3.808e-06. Parameter\n",
      "estimation work better when this value is between 1 and 1000. The recommended\n",
      "rescaling is 1000 * y.\n",
      "\n",
      "This warning can be disabled by either rescaling y before initializing the\n",
      "model or by setting rescale=False.\n",
      "\n",
      "  warnings.warn(\n",
      "c:\\Users\\86177\\anaconda3\\lib\\site-packages\\arch\\univariate\\base.py:310: DataScaleWarning: y is poorly scaled, which may affect convergence of the optimizer when\n",
      "estimating the model parameters. The scale of y is 2.065e-06. Parameter\n",
      "estimation work better when this value is between 1 and 1000. The recommended\n",
      "rescaling is 1000 * y.\n",
      "\n",
      "This warning can be disabled by either rescaling y before initializing the\n",
      "model or by setting rescale=False.\n",
      "\n",
      "  warnings.warn(\n",
      "c:\\Users\\86177\\anaconda3\\lib\\site-packages\\arch\\univariate\\base.py:765: ConvergenceWarning: The optimizer returned code 4. The message is:\n",
      "Inequality constraints incompatible\n",
      "See scipy.optimize.fmin_slsqp for code meaning.\n",
      "\n",
      "  warnings.warn(\n"
     ]
    }
   ],
   "source": [
    "#获取三个市场的基本数据\n",
    "fc = bm.basicmodel()\n",
    "fc.ret(start='2011-07-01',end='2013-07-01')\n",
    "fc.AR_GARCH()"
   ]
  },
  {
   "cell_type": "code",
   "execution_count": 133,
   "metadata": {},
   "outputs": [
    {
     "name": "stdout",
     "output_type": "stream",
     "text": [
      "Lag Order = 1\n",
      "AIC :  -5.617121374857527\n",
      "BIC :  -5.523667991810326\n",
      "Lag Order = 2\n",
      "AIC :  -7.598347175439663\n",
      "BIC :  -7.442084286195026\n",
      "Lag Order = 3\n",
      "AIC :  -7.719221086361082\n",
      "BIC :  -7.499737679878351\n",
      "Lag Order = 4\n",
      "AIC :  -8.02499556217386\n",
      "BIC :  -7.741876084274825\n",
      "Lag Order = 5\n",
      "AIC :  -8.092700109518754\n",
      "BIC :  -7.74552439287271\n",
      "Lag Order = 6\n",
      "AIC :  -8.071042715312169\n",
      "BIC :  -7.659385908041073\n",
      "Lag Order = 7\n",
      "AIC :  -8.060397399527496\n",
      "BIC :  -7.583829892398198\n",
      "Lag Order = 8\n",
      "AIC :  -8.183055695501949\n",
      "BIC :  -7.641143047671502\n",
      "Lag Order = 9\n",
      "AIC :  -8.185484829943132\n",
      "BIC :  -7.577787693222256\n",
      "Lag Order = 10\n",
      "AIC :  -8.19927799150149\n",
      "BIC :  -7.525352033100261\n",
      "Lag Order = 11\n",
      "AIC :  -8.175993726088969\n",
      "BIC :  -7.435389549807776\n",
      "Lag Order = 12\n",
      "AIC :  -8.152590721649368\n",
      "BIC :  -7.34485378747714\n",
      "Lag Order = 13\n",
      "AIC :  -8.132130529834027\n",
      "BIC :  -7.2568010719146425\n",
      "Lag Order = 14\n",
      "AIC :  -8.124901751232125\n",
      "BIC :  -7.1815146941587695\n",
      "Lag Order = 15\n",
      "AIC :  -8.081727727297512\n",
      "BIC :  -7.069812600693616\n"
     ]
    },
    {
     "name": "stderr",
     "output_type": "stream",
     "text": [
      "c:\\Users\\86177\\anaconda3\\lib\\site-packages\\statsmodels\\tsa\\base\\tsa_model.py:471: ValueWarning: A date index has been provided, but it has no associated frequency information and so will be ignored when e.g. forecasting.\n",
      "  self._init_dates(dates, freq)\n"
     ]
    }
   ],
   "source": [
    "model = VAR(fc.std_index[['CNY','CNH']])\n",
    "for i in [1,2,3,4,5,6,7,8,9,10,11,12,13,14,15]:\n",
    "    result = model.fit(i)\n",
    "    print('Lag Order =', i)\n",
    "    print('AIC : ', result.aic)\n",
    "    print('BIC : ', result.bic)"
   ]
  },
  {
   "cell_type": "code",
   "execution_count": 134,
   "metadata": {},
   "outputs": [],
   "source": [
    "def grangers_causation_matrix(data,maxlag,test='ssr_chi2test', verbose=False):    \n",
    "    #maxlag可以是最大值，也可以是所有需要测试的阶数的一个迭代器\n",
    "    if type(maxlag) == int:\n",
    "        alltestlag = [i+1 for i in range(maxlag)]\n",
    "    else:\n",
    "        alltestlag = maxlag\n",
    "    #生成一个pvalue矩阵\n",
    "    variables = data.columns\n",
    "    df = pd.DataFrame(np.zeros((len(variables), len(variables))), columns=variables, index=variables)\n",
    "    for c in df.columns:\n",
    "        for r in df.index:\n",
    "            test_result = grangercausalitytests(data[[r, c]], maxlag=maxlag, verbose=False)\n",
    "            p_values = [round(test_result[i][0][test][1],4) for i in alltestlag]\n",
    "            if verbose: print(f'Y = {r}, X = {c}, P Values = {p_values}')\n",
    "            min_p_value = np.min(p_values)\n",
    "            df.loc[r, c] = min_p_value\n",
    "    df.columns = [var + '_cause' for var in variables]\n",
    "    df.index = [var + '_reason' for var in variables]\n",
    "    return df"
   ]
  },
  {
   "cell_type": "code",
   "execution_count": 164,
   "metadata": {},
   "outputs": [
    {
     "data": {
      "text/html": [
       "<div>\n",
       "<style scoped>\n",
       "    .dataframe tbody tr th:only-of-type {\n",
       "        vertical-align: middle;\n",
       "    }\n",
       "\n",
       "    .dataframe tbody tr th {\n",
       "        vertical-align: top;\n",
       "    }\n",
       "\n",
       "    .dataframe thead th {\n",
       "        text-align: right;\n",
       "    }\n",
       "</style>\n",
       "<table border=\"1\" class=\"dataframe\">\n",
       "  <thead>\n",
       "    <tr style=\"text-align: right;\">\n",
       "      <th></th>\n",
       "      <th>CNY_cause</th>\n",
       "      <th>CNH_cause</th>\n",
       "      <th>NDF_cause</th>\n",
       "    </tr>\n",
       "  </thead>\n",
       "  <tbody>\n",
       "    <tr>\n",
       "      <th>CNY_reason</th>\n",
       "      <td>1.0000</td>\n",
       "      <td>0.0653</td>\n",
       "      <td>0.0174</td>\n",
       "    </tr>\n",
       "    <tr>\n",
       "      <th>CNH_reason</th>\n",
       "      <td>0.3261</td>\n",
       "      <td>1.0000</td>\n",
       "      <td>0.4111</td>\n",
       "    </tr>\n",
       "    <tr>\n",
       "      <th>NDF_reason</th>\n",
       "      <td>0.2873</td>\n",
       "      <td>0.0424</td>\n",
       "      <td>1.0000</td>\n",
       "    </tr>\n",
       "  </tbody>\n",
       "</table>\n",
       "</div>"
      ],
      "text/plain": [
       "            CNY_cause  CNH_cause  NDF_cause\n",
       "CNY_reason     1.0000     0.0653     0.0174\n",
       "CNH_reason     0.3261     1.0000     0.4111\n",
       "NDF_reason     0.2873     0.0424     1.0000"
      ]
     },
     "execution_count": 164,
     "metadata": {},
     "output_type": "execute_result"
    }
   ],
   "source": [
    "grangers_causation_matrix(fc.std_index[:150],maxlag=7)"
   ]
  }
 ],
 "metadata": {
  "kernelspec": {
   "display_name": "base",
   "language": "python",
   "name": "python3"
  },
  "language_info": {
   "codemirror_mode": {
    "name": "ipython",
    "version": 3
   },
   "file_extension": ".py",
   "mimetype": "text/x-python",
   "name": "python",
   "nbconvert_exporter": "python",
   "pygments_lexer": "ipython3",
   "version": "3.9.12"
  }
 },
 "nbformat": 4,
 "nbformat_minor": 2
}
