{
 "cells": [
  {
   "cell_type": "code",
   "execution_count": 1,
   "metadata": {},
   "outputs": [],
   "source": [
    "import numpy as np\n",
    "import pandas as pd\n",
    "import BasicModel as bm\n",
    "from statsmodels.tsa.api import VAR\n",
    "from statsmodels.tsa.stattools import grangercausalitytests\n",
    "from statsmodels.stats.diagnostic import acorr_ljungbox as lb_test"
   ]
  },
  {
   "cell_type": "code",
   "execution_count": 2,
   "metadata": {},
   "outputs": [
    {
     "name": "stdout",
     "output_type": "stream",
     "text": [
      "Iteration:      1,   Func. Count:      5,   Neg. LLF: -5403.072865708344\n",
      "Inequality constraints incompatible    (Exit mode 4)\n",
      "            Current function value: -5403.072866035264\n",
      "            Iterations: 1\n",
      "            Function evaluations: 5\n",
      "            Gradient evaluations: 1\n",
      "Iteration:      1,   Func. Count:      6,   Neg. LLF: -4953.184909297267\n",
      "Inequality constraints incompatible    (Exit mode 4)\n",
      "            Current function value: -4953.184906614894\n",
      "            Iterations: 1\n",
      "            Function evaluations: 6\n",
      "            Gradient evaluations: 1\n",
      "Iteration:      1,   Func. Count:      7,   Neg. LLF: -5118.994567691181\n",
      "Inequality constraints incompatible    (Exit mode 4)\n",
      "            Current function value: -5118.994569771838\n",
      "            Iterations: 1\n",
      "            Function evaluations: 7\n",
      "            Gradient evaluations: 1\n"
     ]
    },
    {
     "name": "stderr",
     "output_type": "stream",
     "text": [
      "c:\\Users\\86177\\anaconda3\\lib\\site-packages\\arch\\univariate\\base.py:310: DataScaleWarning: y is poorly scaled, which may affect convergence of the optimizer when\n",
      "estimating the model parameters. The scale of y is 6.055e-07. Parameter\n",
      "estimation work better when this value is between 1 and 1000. The recommended\n",
      "rescaling is 1000 * y.\n",
      "\n",
      "This warning can be disabled by either rescaling y before initializing the\n",
      "model or by setting rescale=False.\n",
      "\n",
      "  warnings.warn(\n",
      "c:\\Users\\86177\\anaconda3\\lib\\site-packages\\arch\\univariate\\base.py:765: ConvergenceWarning: The optimizer returned code 4. The message is:\n",
      "Inequality constraints incompatible\n",
      "See scipy.optimize.fmin_slsqp for code meaning.\n",
      "\n",
      "  warnings.warn(\n",
      "c:\\Users\\86177\\anaconda3\\lib\\site-packages\\arch\\univariate\\base.py:310: DataScaleWarning: y is poorly scaled, which may affect convergence of the optimizer when\n",
      "estimating the model parameters. The scale of y is 2.731e-06. Parameter\n",
      "estimation work better when this value is between 1 and 1000. The recommended\n",
      "rescaling is 1000 * y.\n",
      "\n",
      "This warning can be disabled by either rescaling y before initializing the\n",
      "model or by setting rescale=False.\n",
      "\n",
      "  warnings.warn(\n",
      "c:\\Users\\86177\\anaconda3\\lib\\site-packages\\arch\\univariate\\base.py:765: ConvergenceWarning: The optimizer returned code 4. The message is:\n",
      "Inequality constraints incompatible\n",
      "See scipy.optimize.fmin_slsqp for code meaning.\n",
      "\n",
      "  warnings.warn(\n",
      "c:\\Users\\86177\\anaconda3\\lib\\site-packages\\arch\\univariate\\base.py:310: DataScaleWarning: y is poorly scaled, which may affect convergence of the optimizer when\n",
      "estimating the model parameters. The scale of y is 1.391e-06. Parameter\n",
      "estimation work better when this value is between 1 and 1000. The recommended\n",
      "rescaling is 1000 * y.\n",
      "\n",
      "This warning can be disabled by either rescaling y before initializing the\n",
      "model or by setting rescale=False.\n",
      "\n",
      "  warnings.warn(\n",
      "c:\\Users\\86177\\anaconda3\\lib\\site-packages\\arch\\univariate\\base.py:765: ConvergenceWarning: The optimizer returned code 4. The message is:\n",
      "Inequality constraints incompatible\n",
      "See scipy.optimize.fmin_slsqp for code meaning.\n",
      "\n",
      "  warnings.warn(\n"
     ]
    }
   ],
   "source": [
    "#获取三个市场的基本数据\n",
    "fc = bm.basicmodel()\n",
    "fc.ret(start='2011-08-01',end='2015-08-01')\n",
    "fc.AR_GARCH(model_lags=[0,[2],2])"
   ]
  },
  {
   "cell_type": "code",
   "execution_count": 16,
   "metadata": {},
   "outputs": [
    {
     "name": "stderr",
     "output_type": "stream",
     "text": [
      "c:\\Users\\86177\\anaconda3\\lib\\site-packages\\statsmodels\\tsa\\base\\tsa_model.py:471: ValueWarning: A date index has been provided, but it has no associated frequency information and so will be ignored when e.g. forecasting.\n",
      "  self._init_dates(dates, freq)\n"
     ]
    }
   ],
   "source": [
    "model = VAR(fc.std_index[['CNY','CNH']])\n",
    "aic = {}\n",
    "bic = {}\n",
    "for i in [1,2,3,4,5,6,7,8,9,10,11,12,13,14,15]:\n",
    "    result = model.fit(i)\n",
    "    aic[i] = result.aic\n",
    "    bic[i] = result.bic"
   ]
  },
  {
   "cell_type": "code",
   "execution_count": 4,
   "metadata": {},
   "outputs": [],
   "source": [
    "def grangers_causation_matrix(data,maxlag,test='ssr_chi2test', verbose=False):    \n",
    "    #maxlag可以是最大值，也可以是所有需要测试的阶数的一个迭代器\n",
    "    if type(maxlag) == int:\n",
    "        alltestlag = [i+1 for i in range(maxlag)]\n",
    "    else:\n",
    "        alltestlag = maxlag\n",
    "    #生成一个pvalue矩阵\n",
    "    variables = data.columns\n",
    "    df = pd.DataFrame(np.zeros((len(variables), len(variables))), columns=variables, index=variables)\n",
    "    for c in df.columns:\n",
    "        for r in df.index:\n",
    "            test_result = grangercausalitytests(data[[r, c]], maxlag=maxlag, verbose=False)\n",
    "            p_values = [round(test_result[i][0][test][1],4) for i in alltestlag]\n",
    "            if verbose: print(f'Y = {r}, X = {c}, P Values = {p_values}')\n",
    "            min_p_value = np.min(p_values)\n",
    "            df.loc[r, c] = min_p_value\n",
    "    df.columns = [var + '_cause' for var in variables]\n",
    "    df.index = [var + '_result' for var in variables]\n",
    "    return df"
   ]
  },
  {
   "cell_type": "code",
   "execution_count": 31,
   "metadata": {},
   "outputs": [
    {
     "name": "stdout",
     "output_type": "stream",
     "text": [
      "Iteration:      1,   Func. Count:      5,   Neg. LLF: -5403.072865708344\n",
      "Inequality constraints incompatible    (Exit mode 4)\n",
      "            Current function value: -5403.072866035264\n",
      "            Iterations: 1\n",
      "            Function evaluations: 5\n",
      "            Gradient evaluations: 1\n",
      "Iteration:      1,   Func. Count:      7,   Neg. LLF: -4932.184236750706\n",
      "Inequality constraints incompatible    (Exit mode 4)\n",
      "            Current function value: -4932.184233199658\n",
      "            Iterations: 1\n",
      "            Function evaluations: 7\n",
      "            Gradient evaluations: 1\n",
      "Iteration:      1,   Func. Count:      7,   Neg. LLF: -5097.330415072179\n",
      "Inequality constraints incompatible    (Exit mode 4)\n",
      "            Current function value: -5097.330416841047\n",
      "            Iterations: 1\n",
      "            Function evaluations: 7\n",
      "            Gradient evaluations: 1\n"
     ]
    },
    {
     "name": "stderr",
     "output_type": "stream",
     "text": [
      "c:\\Users\\86177\\anaconda3\\lib\\site-packages\\arch\\univariate\\base.py:310: DataScaleWarning: y is poorly scaled, which may affect convergence of the optimizer when\n",
      "estimating the model parameters. The scale of y is 6.055e-07. Parameter\n",
      "estimation work better when this value is between 1 and 1000. The recommended\n",
      "rescaling is 1000 * y.\n",
      "\n",
      "This warning can be disabled by either rescaling y before initializing the\n",
      "model or by setting rescale=False.\n",
      "\n",
      "  warnings.warn(\n",
      "c:\\Users\\86177\\anaconda3\\lib\\site-packages\\arch\\univariate\\base.py:765: ConvergenceWarning: The optimizer returned code 4. The message is:\n",
      "Inequality constraints incompatible\n",
      "See scipy.optimize.fmin_slsqp for code meaning.\n",
      "\n",
      "  warnings.warn(\n",
      "c:\\Users\\86177\\anaconda3\\lib\\site-packages\\arch\\univariate\\base.py:310: DataScaleWarning: y is poorly scaled, which may affect convergence of the optimizer when\n",
      "estimating the model parameters. The scale of y is 2.657e-06. Parameter\n",
      "estimation work better when this value is between 1 and 1000. The recommended\n",
      "rescaling is 1000 * y.\n",
      "\n",
      "This warning can be disabled by either rescaling y before initializing the\n",
      "model or by setting rescale=False.\n",
      "\n",
      "  warnings.warn(\n",
      "c:\\Users\\86177\\anaconda3\\lib\\site-packages\\arch\\univariate\\base.py:765: ConvergenceWarning: The optimizer returned code 4. The message is:\n",
      "Inequality constraints incompatible\n",
      "See scipy.optimize.fmin_slsqp for code meaning.\n",
      "\n",
      "  warnings.warn(\n",
      "c:\\Users\\86177\\anaconda3\\lib\\site-packages\\arch\\univariate\\base.py:310: DataScaleWarning: y is poorly scaled, which may affect convergence of the optimizer when\n",
      "estimating the model parameters. The scale of y is 1.355e-06. Parameter\n",
      "estimation work better when this value is between 1 and 1000. The recommended\n",
      "rescaling is 1000 * y.\n",
      "\n",
      "This warning can be disabled by either rescaling y before initializing the\n",
      "model or by setting rescale=False.\n",
      "\n",
      "  warnings.warn(\n",
      "c:\\Users\\86177\\anaconda3\\lib\\site-packages\\arch\\univariate\\base.py:765: ConvergenceWarning: The optimizer returned code 4. The message is:\n",
      "Inequality constraints incompatible\n",
      "See scipy.optimize.fmin_slsqp for code meaning.\n",
      "\n",
      "  warnings.warn(\n"
     ]
    }
   ],
   "source": [
    "fc = bm.basicmodel()\n",
    "fc.ret(start='2011-08-01',end='2015-08-01')\n",
    "fc.AR_GARCH(model_lags=[0,[1,2],[2,7]])"
   ]
  },
  {
   "cell_type": "code",
   "execution_count": 32,
   "metadata": {},
   "outputs": [
    {
     "data": {
      "text/html": [
       "<div>\n",
       "<style scoped>\n",
       "    .dataframe tbody tr th:only-of-type {\n",
       "        vertical-align: middle;\n",
       "    }\n",
       "\n",
       "    .dataframe tbody tr th {\n",
       "        vertical-align: top;\n",
       "    }\n",
       "\n",
       "    .dataframe thead th {\n",
       "        text-align: right;\n",
       "    }\n",
       "</style>\n",
       "<table border=\"1\" class=\"dataframe\">\n",
       "  <thead>\n",
       "    <tr style=\"text-align: right;\">\n",
       "      <th></th>\n",
       "      <th>CNY_cause</th>\n",
       "      <th>CNH_cause</th>\n",
       "      <th>NDF_cause</th>\n",
       "    </tr>\n",
       "  </thead>\n",
       "  <tbody>\n",
       "    <tr>\n",
       "      <th>CNY_result</th>\n",
       "      <td>1.0000</td>\n",
       "      <td>0.5309</td>\n",
       "      <td>0.2223</td>\n",
       "    </tr>\n",
       "    <tr>\n",
       "      <th>CNH_result</th>\n",
       "      <td>0.0445</td>\n",
       "      <td>1.0000</td>\n",
       "      <td>0.0001</td>\n",
       "    </tr>\n",
       "    <tr>\n",
       "      <th>NDF_result</th>\n",
       "      <td>0.1765</td>\n",
       "      <td>0.1952</td>\n",
       "      <td>1.0000</td>\n",
       "    </tr>\n",
       "  </tbody>\n",
       "</table>\n",
       "</div>"
      ],
      "text/plain": [
       "            CNY_cause  CNH_cause  NDF_cause\n",
       "CNY_result     1.0000     0.5309     0.2223\n",
       "CNH_result     0.0445     1.0000     0.0001\n",
       "NDF_result     0.1765     0.1952     1.0000"
      ]
     },
     "execution_count": 32,
     "metadata": {},
     "output_type": "execute_result"
    }
   ],
   "source": [
    "grangers_causation_matrix(fc.std_index,maxlag=7)"
   ]
  },
  {
   "cell_type": "code",
   "execution_count": 39,
   "metadata": {},
   "outputs": [
    {
     "name": "stdout",
     "output_type": "stream",
     "text": [
      "Iteration:      1,   Func. Count:      7,   Neg. LLF: 31148381724423.766\n",
      "Iteration:      2,   Func. Count:     21,   Neg. LLF: 1050599397.9020545\n",
      "Iteration:      3,   Func. Count:     35,   Neg. LLF: 11992934044.223831\n",
      "Optimization terminated successfully    (Exit mode 0)\n",
      "            Current function value: -1706.0838338725807\n",
      "            Iterations: 5\n",
      "            Function evaluations: 43\n",
      "            Gradient evaluations: 3\n",
      "Iteration:      1,   Func. Count:      7,   Neg. LLF: 433086772498884.1\n",
      "Iteration:      2,   Func. Count:     21,   Neg. LLF: 1.772361153983856e+16\n",
      "Iteration:      3,   Func. Count:     37,   Neg. LLF: 9639269056963.158\n",
      "Iteration:      4,   Func. Count:     53,   Neg. LLF: 442425516581030.25\n",
      "Optimization terminated successfully    (Exit mode 0)\n",
      "            Current function value: -1663.6933226581182\n",
      "            Iterations: 5\n",
      "            Function evaluations: 61\n",
      "            Gradient evaluations: 4\n",
      "Iteration:      1,   Func. Count:      6,   Neg. LLF: 71349161020.38051\n",
      "Iteration:      2,   Func. Count:     19,   Neg. LLF: 6005220642758.511\n",
      "Iteration:      3,   Func. Count:     34,   Neg. LLF: 202348464.32384333\n",
      "Iteration:      4,   Func. Count:     47,   Neg. LLF: 14721574639200.945\n",
      "Iteration:      5,   Func. Count:     62,   Neg. LLF: 61959859.09715895\n",
      "Iteration:      6,   Func. Count:     74,   Neg. LLF: -1648.456273552916\n",
      "Optimization terminated successfully    (Exit mode 0)\n",
      "            Current function value: -1648.4562736432426\n",
      "            Iterations: 10\n",
      "            Function evaluations: 74\n",
      "            Gradient evaluations: 6\n"
     ]
    },
    {
     "name": "stderr",
     "output_type": "stream",
     "text": [
      "c:\\Users\\86177\\anaconda3\\lib\\site-packages\\arch\\univariate\\base.py:310: DataScaleWarning: y is poorly scaled, which may affect convergence of the optimizer when\n",
      "estimating the model parameters. The scale of y is 5.251e-06. Parameter\n",
      "estimation work better when this value is between 1 and 1000. The recommended\n",
      "rescaling is 1000 * y.\n",
      "\n",
      "This warning can be disabled by either rescaling y before initializing the\n",
      "model or by setting rescale=False.\n",
      "\n",
      "  warnings.warn(\n",
      "c:\\Users\\86177\\anaconda3\\lib\\site-packages\\arch\\univariate\\base.py:310: DataScaleWarning: y is poorly scaled, which may affect convergence of the optimizer when\n",
      "estimating the model parameters. The scale of y is 6.478e-06. Parameter\n",
      "estimation work better when this value is between 1 and 1000. The recommended\n",
      "rescaling is 1000 * y.\n",
      "\n",
      "This warning can be disabled by either rescaling y before initializing the\n",
      "model or by setting rescale=False.\n",
      "\n",
      "  warnings.warn(\n",
      "c:\\Users\\86177\\anaconda3\\lib\\site-packages\\arch\\univariate\\base.py:310: DataScaleWarning: y is poorly scaled, which may affect convergence of the optimizer when\n",
      "estimating the model parameters. The scale of y is 7.136e-06. Parameter\n",
      "estimation work better when this value is between 1 and 1000. The recommended\n",
      "rescaling is 1000 * y.\n",
      "\n",
      "This warning can be disabled by either rescaling y before initializing the\n",
      "model or by setting rescale=False.\n",
      "\n",
      "  warnings.warn(\n"
     ]
    }
   ],
   "source": [
    "fc = bm.basicmodel()\n",
    "fc.ret(start='2015-09-01',end='2017-05-01')\n",
    "fc.AR_GARCH(model_lags=[1,1,0])"
   ]
  },
  {
   "cell_type": "code",
   "execution_count": 40,
   "metadata": {},
   "outputs": [
    {
     "data": {
      "text/html": [
       "<div>\n",
       "<style scoped>\n",
       "    .dataframe tbody tr th:only-of-type {\n",
       "        vertical-align: middle;\n",
       "    }\n",
       "\n",
       "    .dataframe tbody tr th {\n",
       "        vertical-align: top;\n",
       "    }\n",
       "\n",
       "    .dataframe thead th {\n",
       "        text-align: right;\n",
       "    }\n",
       "</style>\n",
       "<table border=\"1\" class=\"dataframe\">\n",
       "  <thead>\n",
       "    <tr style=\"text-align: right;\">\n",
       "      <th></th>\n",
       "      <th>CNY_cause</th>\n",
       "      <th>CNH_cause</th>\n",
       "      <th>NDF_cause</th>\n",
       "    </tr>\n",
       "  </thead>\n",
       "  <tbody>\n",
       "    <tr>\n",
       "      <th>CNY_result</th>\n",
       "      <td>1.0000</td>\n",
       "      <td>0.00</td>\n",
       "      <td>0.0</td>\n",
       "    </tr>\n",
       "    <tr>\n",
       "      <th>CNH_result</th>\n",
       "      <td>0.2560</td>\n",
       "      <td>1.00</td>\n",
       "      <td>0.0</td>\n",
       "    </tr>\n",
       "    <tr>\n",
       "      <th>NDF_result</th>\n",
       "      <td>0.1373</td>\n",
       "      <td>0.15</td>\n",
       "      <td>1.0</td>\n",
       "    </tr>\n",
       "  </tbody>\n",
       "</table>\n",
       "</div>"
      ],
      "text/plain": [
       "            CNY_cause  CNH_cause  NDF_cause\n",
       "CNY_result     1.0000       0.00        0.0\n",
       "CNH_result     0.2560       1.00        0.0\n",
       "NDF_result     0.1373       0.15        1.0"
      ]
     },
     "execution_count": 40,
     "metadata": {},
     "output_type": "execute_result"
    }
   ],
   "source": [
    "grangers_causation_matrix(fc.std_index,maxlag=7)#.iloc[2,1]"
   ]
  },
  {
   "cell_type": "code",
   "execution_count": 41,
   "metadata": {},
   "outputs": [
    {
     "name": "stdout",
     "output_type": "stream",
     "text": [
      "Iteration:      1,   Func. Count:      7,   Neg. LLF: 9.060052652323613e+22\n",
      "Iteration:      2,   Func. Count:     22,   Neg. LLF: 3.7516722952891547e+30\n",
      "Iteration:      3,   Func. Count:     38,   Neg. LLF: 1.8034459481957293e+24\n",
      "Iteration:      4,   Func. Count:     51,   Neg. LLF: -5620.600509630422\n",
      "Inequality constraints incompatible    (Exit mode 4)\n",
      "            Current function value: -5620.600488599576\n",
      "            Iterations: 6\n",
      "            Function evaluations: 51\n",
      "            Gradient evaluations: 4\n",
      "Iteration:      1,   Func. Count:      6,   Neg. LLF: -6165.621183231791\n",
      "Inequality constraints incompatible    (Exit mode 4)\n",
      "            Current function value: -6165.621177918374\n",
      "            Iterations: 1\n",
      "            Function evaluations: 6\n",
      "            Gradient evaluations: 1\n",
      "Iteration:      1,   Func. Count:      8,   Neg. LLF: 1356905605260.075\n",
      "Iteration:      2,   Func. Count:     23,   Neg. LLF: -6131.970028218662\n",
      "Inequality constraints incompatible    (Exit mode 4)\n",
      "            Current function value: -6131.970018124979\n",
      "            Iterations: 2\n",
      "            Function evaluations: 23\n",
      "            Gradient evaluations: 2\n"
     ]
    },
    {
     "name": "stderr",
     "output_type": "stream",
     "text": [
      "c:\\Users\\86177\\anaconda3\\lib\\site-packages\\arch\\univariate\\base.py:310: DataScaleWarning: y is poorly scaled, which may affect convergence of the optimizer when\n",
      "estimating the model parameters. The scale of y is 7.095e-06. Parameter\n",
      "estimation work better when this value is between 1 and 1000. The recommended\n",
      "rescaling is 1000 * y.\n",
      "\n",
      "This warning can be disabled by either rescaling y before initializing the\n",
      "model or by setting rescale=False.\n",
      "\n",
      "  warnings.warn(\n",
      "c:\\Users\\86177\\anaconda3\\lib\\site-packages\\arch\\univariate\\base.py:765: ConvergenceWarning: The optimizer returned code 4. The message is:\n",
      "Inequality constraints incompatible\n",
      "See scipy.optimize.fmin_slsqp for code meaning.\n",
      "\n",
      "  warnings.warn(\n",
      "c:\\Users\\86177\\anaconda3\\lib\\site-packages\\arch\\univariate\\base.py:310: DataScaleWarning: y is poorly scaled, which may affect convergence of the optimizer when\n",
      "estimating the model parameters. The scale of y is 1.095e-05. Parameter\n",
      "estimation work better when this value is between 1 and 1000. The recommended\n",
      "rescaling is 100 * y.\n",
      "\n",
      "This warning can be disabled by either rescaling y before initializing the\n",
      "model or by setting rescale=False.\n",
      "\n",
      "  warnings.warn(\n",
      "c:\\Users\\86177\\anaconda3\\lib\\site-packages\\arch\\univariate\\base.py:765: ConvergenceWarning: The optimizer returned code 4. The message is:\n",
      "Inequality constraints incompatible\n",
      "See scipy.optimize.fmin_slsqp for code meaning.\n",
      "\n",
      "  warnings.warn(\n",
      "c:\\Users\\86177\\anaconda3\\lib\\site-packages\\arch\\univariate\\base.py:310: DataScaleWarning: y is poorly scaled, which may affect convergence of the optimizer when\n",
      "estimating the model parameters. The scale of y is 1.159e-05. Parameter\n",
      "estimation work better when this value is between 1 and 1000. The recommended\n",
      "rescaling is 100 * y.\n",
      "\n",
      "This warning can be disabled by either rescaling y before initializing the\n",
      "model or by setting rescale=False.\n",
      "\n",
      "  warnings.warn(\n",
      "c:\\Users\\86177\\anaconda3\\lib\\site-packages\\arch\\univariate\\base.py:765: ConvergenceWarning: The optimizer returned code 4. The message is:\n",
      "Inequality constraints incompatible\n",
      "See scipy.optimize.fmin_slsqp for code meaning.\n",
      "\n",
      "  warnings.warn(\n"
     ]
    }
   ],
   "source": [
    "fc = bm.basicmodel()\n",
    "fc.ret(start='2017-06-01',end='2023-11-01')\n",
    "fc.AR_GARCH(model_lags=[1,[6],[1,3]])"
   ]
  },
  {
   "cell_type": "code",
   "execution_count": 42,
   "metadata": {},
   "outputs": [
    {
     "data": {
      "text/html": [
       "<div>\n",
       "<style scoped>\n",
       "    .dataframe tbody tr th:only-of-type {\n",
       "        vertical-align: middle;\n",
       "    }\n",
       "\n",
       "    .dataframe tbody tr th {\n",
       "        vertical-align: top;\n",
       "    }\n",
       "\n",
       "    .dataframe thead th {\n",
       "        text-align: right;\n",
       "    }\n",
       "</style>\n",
       "<table border=\"1\" class=\"dataframe\">\n",
       "  <thead>\n",
       "    <tr style=\"text-align: right;\">\n",
       "      <th></th>\n",
       "      <th>CNY_cause</th>\n",
       "      <th>CNH_cause</th>\n",
       "      <th>NDF_cause</th>\n",
       "    </tr>\n",
       "  </thead>\n",
       "  <tbody>\n",
       "    <tr>\n",
       "      <th>CNY_result</th>\n",
       "      <td>1.0000</td>\n",
       "      <td>0.000</td>\n",
       "      <td>0.0</td>\n",
       "    </tr>\n",
       "    <tr>\n",
       "      <th>CNH_result</th>\n",
       "      <td>0.0134</td>\n",
       "      <td>1.000</td>\n",
       "      <td>0.0</td>\n",
       "    </tr>\n",
       "    <tr>\n",
       "      <th>NDF_result</th>\n",
       "      <td>0.6043</td>\n",
       "      <td>0.225</td>\n",
       "      <td>1.0</td>\n",
       "    </tr>\n",
       "  </tbody>\n",
       "</table>\n",
       "</div>"
      ],
      "text/plain": [
       "            CNY_cause  CNH_cause  NDF_cause\n",
       "CNY_result     1.0000      0.000        0.0\n",
       "CNH_result     0.0134      1.000        0.0\n",
       "NDF_result     0.6043      0.225        1.0"
      ]
     },
     "execution_count": 42,
     "metadata": {},
     "output_type": "execute_result"
    }
   ],
   "source": [
    "grangers_causation_matrix(fc.std_index,maxlag=7)"
   ]
  }
 ],
 "metadata": {
  "kernelspec": {
   "display_name": "base",
   "language": "python",
   "name": "python3"
  },
  "language_info": {
   "codemirror_mode": {
    "name": "ipython",
    "version": 3
   },
   "file_extension": ".py",
   "mimetype": "text/x-python",
   "name": "python",
   "nbconvert_exporter": "python",
   "pygments_lexer": "ipython3",
   "version": "3.9.12"
  }
 },
 "nbformat": 4,
 "nbformat_minor": 2
}
