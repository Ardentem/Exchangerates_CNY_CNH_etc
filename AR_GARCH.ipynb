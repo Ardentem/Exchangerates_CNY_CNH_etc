{
 "cells": [
  {
   "cell_type": "code",
   "execution_count": 111,
   "metadata": {},
   "outputs": [],
   "source": [
    "import numpy as np\n",
    "import pandas as pd\n",
    "import BasicModel as bm\n",
    "import statsmodels.tsa as ts\n",
    "import statsmodels.tsa.stattools as tst\n",
    "import arch\n",
    "import warnings\n",
    "warnings.filterwarnings(\"ignore\")"
   ]
  },
  {
   "cell_type": "code",
   "execution_count": 4,
   "metadata": {},
   "outputs": [
    {
     "data": {
      "text/html": [
       "<div>\n",
       "<style scoped>\n",
       "    .dataframe tbody tr th:only-of-type {\n",
       "        vertical-align: middle;\n",
       "    }\n",
       "\n",
       "    .dataframe tbody tr th {\n",
       "        vertical-align: top;\n",
       "    }\n",
       "\n",
       "    .dataframe thead th {\n",
       "        text-align: right;\n",
       "    }\n",
       "</style>\n",
       "<table border=\"1\" class=\"dataframe\">\n",
       "  <thead>\n",
       "    <tr style=\"text-align: right;\">\n",
       "      <th></th>\n",
       "      <th>CNY</th>\n",
       "      <th>CNH</th>\n",
       "      <th>NDF</th>\n",
       "    </tr>\n",
       "  </thead>\n",
       "  <tbody>\n",
       "    <tr>\n",
       "      <th>count</th>\n",
       "      <td>2787.000000</td>\n",
       "      <td>2787.000000</td>\n",
       "      <td>2787.000000</td>\n",
       "    </tr>\n",
       "    <tr>\n",
       "      <th>mean</th>\n",
       "      <td>0.000038</td>\n",
       "      <td>0.000039</td>\n",
       "      <td>0.000036</td>\n",
       "    </tr>\n",
       "    <tr>\n",
       "      <th>std</th>\n",
       "      <td>0.002205</td>\n",
       "      <td>0.002820</td>\n",
       "      <td>0.002926</td>\n",
       "    </tr>\n",
       "    <tr>\n",
       "      <th>min</th>\n",
       "      <td>-0.020666</td>\n",
       "      <td>-0.017453</td>\n",
       "      <td>-0.024602</td>\n",
       "    </tr>\n",
       "    <tr>\n",
       "      <th>25%</th>\n",
       "      <td>-0.000829</td>\n",
       "      <td>-0.001097</td>\n",
       "      <td>-0.000991</td>\n",
       "    </tr>\n",
       "    <tr>\n",
       "      <th>50%</th>\n",
       "      <td>0.000029</td>\n",
       "      <td>0.000029</td>\n",
       "      <td>0.000000</td>\n",
       "    </tr>\n",
       "    <tr>\n",
       "      <th>75%</th>\n",
       "      <td>0.000806</td>\n",
       "      <td>0.001159</td>\n",
       "      <td>0.000992</td>\n",
       "    </tr>\n",
       "    <tr>\n",
       "      <th>max</th>\n",
       "      <td>0.018574</td>\n",
       "      <td>0.029092</td>\n",
       "      <td>0.043014</td>\n",
       "    </tr>\n",
       "  </tbody>\n",
       "</table>\n",
       "</div>"
      ],
      "text/plain": [
       "               CNY          CNH          NDF\n",
       "count  2787.000000  2787.000000  2787.000000\n",
       "mean      0.000038     0.000039     0.000036\n",
       "std       0.002205     0.002820     0.002926\n",
       "min      -0.020666    -0.017453    -0.024602\n",
       "25%      -0.000829    -0.001097    -0.000991\n",
       "50%       0.000029     0.000029     0.000000\n",
       "75%       0.000806     0.001159     0.000992\n",
       "max       0.018574     0.029092     0.043014"
      ]
     },
     "execution_count": 4,
     "metadata": {},
     "output_type": "execute_result"
    }
   ],
   "source": [
    "#获取三个市场的基本数据并做描述性统计\n",
    "fc = bm.basicmodel()\n",
    "fc.ret()\n",
    "fc.ret_data.describe()"
   ]
  },
  {
   "cell_type": "code",
   "execution_count": 11,
   "metadata": {},
   "outputs": [
    {
     "data": {
      "text/html": [
       "<div>\n",
       "<style scoped>\n",
       "    .dataframe tbody tr th:only-of-type {\n",
       "        vertical-align: middle;\n",
       "    }\n",
       "\n",
       "    .dataframe tbody tr th {\n",
       "        vertical-align: top;\n",
       "    }\n",
       "\n",
       "    .dataframe thead th {\n",
       "        text-align: right;\n",
       "    }\n",
       "</style>\n",
       "<table border=\"1\" class=\"dataframe\">\n",
       "  <thead>\n",
       "    <tr style=\"text-align: right;\">\n",
       "      <th></th>\n",
       "      <th>lb_stat</th>\n",
       "      <th>lb_pvalue</th>\n",
       "    </tr>\n",
       "  </thead>\n",
       "  <tbody>\n",
       "    <tr>\n",
       "      <th>1</th>\n",
       "      <td>0.534538</td>\n",
       "      <td>0.464705</td>\n",
       "    </tr>\n",
       "    <tr>\n",
       "      <th>2</th>\n",
       "      <td>0.577713</td>\n",
       "      <td>0.749120</td>\n",
       "    </tr>\n",
       "    <tr>\n",
       "      <th>3</th>\n",
       "      <td>0.633149</td>\n",
       "      <td>0.888804</td>\n",
       "    </tr>\n",
       "    <tr>\n",
       "      <th>4</th>\n",
       "      <td>2.548500</td>\n",
       "      <td>0.635973</td>\n",
       "    </tr>\n",
       "    <tr>\n",
       "      <th>5</th>\n",
       "      <td>3.087807</td>\n",
       "      <td>0.686451</td>\n",
       "    </tr>\n",
       "    <tr>\n",
       "      <th>6</th>\n",
       "      <td>7.557252</td>\n",
       "      <td>0.272366</td>\n",
       "    </tr>\n",
       "    <tr>\n",
       "      <th>7</th>\n",
       "      <td>7.870596</td>\n",
       "      <td>0.344143</td>\n",
       "    </tr>\n",
       "    <tr>\n",
       "      <th>8</th>\n",
       "      <td>8.560484</td>\n",
       "      <td>0.380717</td>\n",
       "    </tr>\n",
       "    <tr>\n",
       "      <th>9</th>\n",
       "      <td>9.025578</td>\n",
       "      <td>0.434916</td>\n",
       "    </tr>\n",
       "    <tr>\n",
       "      <th>10</th>\n",
       "      <td>9.869557</td>\n",
       "      <td>0.452011</td>\n",
       "    </tr>\n",
       "  </tbody>\n",
       "</table>\n",
       "</div>"
      ],
      "text/plain": [
       "     lb_stat  lb_pvalue\n",
       "1   0.534538   0.464705\n",
       "2   0.577713   0.749120\n",
       "3   0.633149   0.888804\n",
       "4   2.548500   0.635973\n",
       "5   3.087807   0.686451\n",
       "6   7.557252   0.272366\n",
       "7   7.870596   0.344143\n",
       "8   8.560484   0.380717\n",
       "9   9.025578   0.434916\n",
       "10  9.869557   0.452011"
      ]
     },
     "execution_count": 11,
     "metadata": {},
     "output_type": "execute_result"
    }
   ],
   "source": [
    "#Ljung-Box test\n",
    "from statsmodels.stats.diagnostic import acorr_ljungbox as lb_test\n",
    "#lb_test(fc.ret_data['CNY'])\n",
    "#lb_test(fc.ret_data['CNH'])\n",
    "lb_test(fc.ret_data['CNY'])"
   ]
  },
  {
   "cell_type": "code",
   "execution_count": 12,
   "metadata": {},
   "outputs": [
    {
     "data": {
      "text/plain": [
       "(-29.80109261589302,\n",
       " 0.0,\n",
       " 0,\n",
       " 933,\n",
       " {'1%': -3.4373782772524315,\n",
       "  '5%': -2.8646427696103305,\n",
       "  '10%': -2.56842210151995},\n",
       " -10493.253903810337)"
      ]
     },
     "execution_count": 12,
     "metadata": {},
     "output_type": "execute_result"
    }
   ],
   "source": [
    "#ADF test\n",
    "tst.adfuller(fc.ret_data['CNY'])\n",
    "#tst.adfuller(fc.ret_data['CNH'])\n",
    "#tst.adfuller(fc.ret_data['NDF'])"
   ]
  },
  {
   "cell_type": "code",
   "execution_count": 13,
   "metadata": {},
   "outputs": [
    {
     "name": "stderr",
     "output_type": "stream",
     "text": [
      "c:\\Users\\86177\\anaconda3\\lib\\site-packages\\statsmodels\\graphics\\tsaplots.py:348: FutureWarning: The default method 'yw' can produce PACF values outside of the [-1,1] interval. After 0.13, the default will change tounadjusted Yule-Walker ('ywm'). You can use this method now by setting method='ywm'.\n",
      "  warnings.warn(\n"
     ]
    },
    {
     "data": {
      "text/plain": [
       "(-0.1, 0.1)"
      ]
     },
     "execution_count": 13,
     "metadata": {},
     "output_type": "execute_result"
    },
    {
     "data": {
      "image/png": "[encoded data removed]",
      "text/plain": [
       "<Figure size 432x288 with 1 Axes>"
      ]
     },
     "metadata": {
      "needs_background": "light"
     },
     "output_type": "display_data"
    },
    {
     "data": {
      "image/png": "[encoded data removed]",
      "text/plain": [
       "<Figure size 432x288 with 1 Axes>"
      ]
     },
     "metadata": {
      "needs_background": "light"
     },
     "output_type": "display_data"
    }
   ],
   "source": [
    "from statsmodels.graphics.tsaplots import plot_acf, plot_pacf\n",
    "import matplotlib.pyplot as plt\n",
    "plot_acf(fc.ret_data['CNY'],lags=15)\n",
    "plt.ylim([-0.1,0.1])\n",
    "plot_pacf(fc.ret_data['CNY'],lags=15)\n",
    "plt.ylim([-0.1,0.1])"
   ]
  },
  {
   "cell_type": "code",
   "execution_count": 8,
   "metadata": {},
   "outputs": [
    {
     "name": "stderr",
     "output_type": "stream",
     "text": [
      "c:\\Users\\86177\\anaconda3\\lib\\site-packages\\statsmodels\\tsa\\statespace\\sarimax.py:966: UserWarning: Non-stationary starting autoregressive parameters found. Using zeros as starting parameters.\n",
      "  warn('Non-stationary starting autoregressive parameters'\n",
      "c:\\Users\\86177\\anaconda3\\lib\\site-packages\\statsmodels\\tsa\\statespace\\sarimax.py:978: UserWarning: Non-invertible starting MA parameters found. Using zeros as starting parameters.\n",
      "  warn('Non-invertible starting MA parameters found.'\n",
      "c:\\Users\\86177\\anaconda3\\lib\\site-packages\\statsmodels\\base\\model.py:604: ConvergenceWarning: Maximum Likelihood optimization failed to converge. Check mle_retvals\n",
      "  warnings.warn(\"Maximum Likelihood optimization failed to \"\n",
      "c:\\Users\\86177\\anaconda3\\lib\\site-packages\\statsmodels\\base\\model.py:604: ConvergenceWarning: Maximum Likelihood optimization failed to converge. Check mle_retvals\n",
      "  warnings.warn(\"Maximum Likelihood optimization failed to \"\n",
      "c:\\Users\\86177\\anaconda3\\lib\\site-packages\\statsmodels\\base\\model.py:604: ConvergenceWarning: Maximum Likelihood optimization failed to converge. Check mle_retvals\n",
      "  warnings.warn(\"Maximum Likelihood optimization failed to \"\n",
      "c:\\Users\\86177\\anaconda3\\lib\\site-packages\\statsmodels\\base\\model.py:604: ConvergenceWarning: Maximum Likelihood optimization failed to converge. Check mle_retvals\n",
      "  warnings.warn(\"Maximum Likelihood optimization failed to \"\n",
      "c:\\Users\\86177\\anaconda3\\lib\\site-packages\\statsmodels\\base\\model.py:604: ConvergenceWarning: Maximum Likelihood optimization failed to converge. Check mle_retvals\n",
      "  warnings.warn(\"Maximum Likelihood optimization failed to \"\n",
      "c:\\Users\\86177\\anaconda3\\lib\\site-packages\\statsmodels\\base\\model.py:604: ConvergenceWarning: Maximum Likelihood optimization failed to converge. Check mle_retvals\n",
      "  warnings.warn(\"Maximum Likelihood optimization failed to \"\n",
      "c:\\Users\\86177\\anaconda3\\lib\\site-packages\\statsmodels\\base\\model.py:604: ConvergenceWarning: Maximum Likelihood optimization failed to converge. Check mle_retvals\n",
      "  warnings.warn(\"Maximum Likelihood optimization failed to \"\n",
      "c:\\Users\\86177\\anaconda3\\lib\\site-packages\\statsmodels\\base\\model.py:604: ConvergenceWarning: Maximum Likelihood optimization failed to converge. Check mle_retvals\n",
      "  warnings.warn(\"Maximum Likelihood optimization failed to \"\n"
     ]
    }
   ],
   "source": [
    "#选择ARMA的滞后阶数（函数运行时间较长）\n",
    "modelchoose = tst.arma_order_select_ic(fc.ret_data['CNY'],max_ar=10,max_ma=10,ic=['aic','bic'])\n",
    "modelchoose"
   ]
  },
  {
   "cell_type": "code",
   "execution_count": 155,
   "metadata": {},
   "outputs": [],
   "source": [
    "fc.ret(start='2012-08-01',end='2015-08-01')"
   ]
  },
  {
   "cell_type": "code",
   "execution_count": 161,
   "metadata": {},
   "outputs": [],
   "source": [
    "fc.ret(start='2015-09-01',end='2023-09-01')"
   ]
  },
  {
   "cell_type": "code",
   "execution_count": 152,
   "metadata": {},
   "outputs": [
    {
     "data": {
      "text/html": [
       "<table class=\"simpletable\">\n",
       "<caption>AutoReg Model Results</caption>\n",
       "<tr>\n",
       "  <th>Dep. Variable:</th>        <td>CNY</td>        <th>  No. Observations:  </th>    <td>1778</td>   \n",
       "</tr>\n",
       "<tr>\n",
       "  <th>Model:</th>         <td>Restr. AutoReg(3)</td> <th>  Log Likelihood     </th>  <td>8041.140</td> \n",
       "</tr>\n",
       "<tr>\n",
       "  <th>Method:</th>         <td>Conditional MLE</td>  <th>  S.D. of innovations</th>    <td>0.003</td>  \n",
       "</tr>\n",
       "<tr>\n",
       "  <th>Date:</th>          <td>Mon, 27 Nov 2023</td>  <th>  AIC                </th> <td>-16074.281</td>\n",
       "</tr>\n",
       "<tr>\n",
       "  <th>Time:</th>              <td>15:45:39</td>      <th>  BIC                </th> <td>-16052.354</td>\n",
       "</tr>\n",
       "<tr>\n",
       "  <th>Sample:</th>                <td>3</td>         <th>  HQIC               </th> <td>-16066.181</td>\n",
       "</tr>\n",
       "<tr>\n",
       "  <th></th>                     <td>1778</td>        <th>                     </th>      <td> </td>    \n",
       "</tr>\n",
       "</table>\n",
       "<table class=\"simpletable\">\n",
       "<tr>\n",
       "     <td></td>       <th>coef</th>     <th>std err</th>      <th>z</th>      <th>P>|z|</th>  <th>[0.025</th>    <th>0.975]</th>  \n",
       "</tr>\n",
       "<tr>\n",
       "  <th>const</th>  <td>  6.31e-05</td> <td> 6.19e-05</td> <td>    1.019</td> <td> 0.308</td> <td>-5.83e-05</td> <td>    0.000</td>\n",
       "</tr>\n",
       "<tr>\n",
       "  <th>CNY.L1</th> <td>    0.0740</td> <td>    0.024</td> <td>    3.129</td> <td> 0.002</td> <td>    0.028</td> <td>    0.120</td>\n",
       "</tr>\n",
       "<tr>\n",
       "  <th>CNY.L3</th> <td>    0.0488</td> <td>    0.024</td> <td>    2.066</td> <td> 0.039</td> <td>    0.003</td> <td>    0.095</td>\n",
       "</tr>\n",
       "</table>\n",
       "<table class=\"simpletable\">\n",
       "<caption>Roots</caption>\n",
       "<tr>\n",
       "    <td></td>   <th>            Real</th>  <th>         Imaginary</th> <th>         Modulus</th>  <th>        Frequency</th>\n",
       "</tr>\n",
       "<tr>\n",
       "  <th>AR.1</th> <td>           2.5516</td> <td>          -0.0000j</td> <td>           2.5516</td> <td>          -0.0000</td>\n",
       "</tr>\n",
       "<tr>\n",
       "  <th>AR.2</th> <td>          -1.2758</td> <td>          -2.5294j</td> <td>           2.8329</td> <td>          -0.3243</td>\n",
       "</tr>\n",
       "<tr>\n",
       "  <th>AR.3</th> <td>          -1.2758</td> <td>          +2.5294j</td> <td>           2.8329</td> <td>           0.3243</td>\n",
       "</tr>\n",
       "</table>"
      ],
      "text/plain": [
       "<class 'statsmodels.iolib.summary.Summary'>\n",
       "\"\"\"\n",
       "                            AutoReg Model Results                             \n",
       "==============================================================================\n",
       "Dep. Variable:                    CNY   No. Observations:                 1778\n",
       "Model:              Restr. AutoReg(3)   Log Likelihood                8041.140\n",
       "Method:               Conditional MLE   S.D. of innovations              0.003\n",
       "Date:                Mon, 27 Nov 2023   AIC                         -16074.281\n",
       "Time:                        15:45:39   BIC                         -16052.354\n",
       "Sample:                             3   HQIC                        -16066.181\n",
       "                                 1778                                         \n",
       "==============================================================================\n",
       "                 coef    std err          z      P>|z|      [0.025      0.975]\n",
       "------------------------------------------------------------------------------\n",
       "const        6.31e-05   6.19e-05      1.019      0.308   -5.83e-05       0.000\n",
       "CNY.L1         0.0740      0.024      3.129      0.002       0.028       0.120\n",
       "CNY.L3         0.0488      0.024      2.066      0.039       0.003       0.095\n",
       "                                    Roots                                    \n",
       "=============================================================================\n",
       "                  Real          Imaginary           Modulus         Frequency\n",
       "-----------------------------------------------------------------------------\n",
       "AR.1            2.5516           -0.0000j            2.5516           -0.0000\n",
       "AR.2           -1.2758           -2.5294j            2.8329           -0.3243\n",
       "AR.3           -1.2758           +2.5294j            2.8329            0.3243\n",
       "-----------------------------------------------------------------------------\n",
       "\"\"\""
      ]
     },
     "execution_count": 152,
     "metadata": {},
     "output_type": "execute_result"
    }
   ],
   "source": [
    "#AR模型\n",
    "from statsmodels.tsa.ar_model import AutoReg\n",
    "AR_1_res = AutoReg(fc.ret_data['CNY'],lags = [1,3]).fit()\n",
    "AR_1_res.summary()"
   ]
  },
  {
   "cell_type": "code",
   "execution_count": 153,
   "metadata": {},
   "outputs": [
    {
     "data": {
      "text/plain": [
       "[<matplotlib.lines.Line2D at 0x1c1ecd93af0>]"
      ]
     },
     "execution_count": 153,
     "metadata": {},
     "output_type": "execute_result"
    },
    {
     "data": {
      "image/png": "[encoded data removed]",
      "text/plain": [
       "<Figure size 432x288 with 1 Axes>"
      ]
     },
     "metadata": {
      "needs_background": "light"
     },
     "output_type": "display_data"
    }
   ],
   "source": [
    "#AR模型的残差作图（体限异方差性）\n",
    "plt.plot(AR_1_res.resid)"
   ]
  },
  {
   "cell_type": "code",
   "execution_count": 162,
   "metadata": {},
   "outputs": [
    {
     "name": "stdout",
     "output_type": "stream",
     "text": [
      "Iteration:      1,   Func. Count:      7,   Neg. LLF: -8205.41195669338\n",
      "Inequality constraints incompatible    (Exit mode 4)\n",
      "            Current function value: -8205.411949187528\n",
      "            Iterations: 1\n",
      "            Function evaluations: 7\n",
      "            Gradient evaluations: 1\n"
     ]
    },
    {
     "name": "stderr",
     "output_type": "stream",
     "text": [
      "c:\\Users\\86177\\anaconda3\\lib\\site-packages\\arch\\univariate\\base.py:765: ConvergenceWarning: The optimizer returned code 4. The message is:\n",
      "Inequality constraints incompatible\n",
      "See scipy.optimize.fmin_slsqp for code meaning.\n",
      "\n",
      "  warnings.warn(\n"
     ]
    },
    {
     "data": {
      "text/html": [
       "<table class=\"simpletable\">\n",
       "<caption>AR - GARCH Model Results</caption>\n",
       "<tr>\n",
       "  <th>Dep. Variable:</th>         <td>CNY</td>        <th>  R-squared:         </th>  <td>   0.008</td> \n",
       "</tr>\n",
       "<tr>\n",
       "  <th>Mean Model:</th>            <td>AR</td>         <th>  Adj. R-squared:    </th>  <td>   0.007</td> \n",
       "</tr>\n",
       "<tr>\n",
       "  <th>Vol Model:</th>            <td>GARCH</td>       <th>  Log-Likelihood:    </th> <td>   8205.41</td>\n",
       "</tr>\n",
       "<tr>\n",
       "  <th>Distribution:</th>        <td>Normal</td>       <th>  AIC:               </th> <td>  -16398.8</td>\n",
       "</tr>\n",
       "<tr>\n",
       "  <th>Method:</th>        <td>Maximum Likelihood</td> <th>  BIC:               </th> <td>  -16365.9</td>\n",
       "</tr>\n",
       "<tr>\n",
       "  <th></th>                        <td></td>          <th>  No. Observations:  </th>    <td>1775</td>   \n",
       "</tr>\n",
       "<tr>\n",
       "  <th>Date:</th>           <td>Mon, Nov 27 2023</td>  <th>  Df Residuals:      </th>    <td>1772</td>   \n",
       "</tr>\n",
       "<tr>\n",
       "  <th>Time:</th>               <td>15:49:13</td>      <th>  Df Model:          </th>      <td>3</td>    \n",
       "</tr>\n",
       "</table>\n",
       "<table class=\"simpletable\">\n",
       "<caption>Mean Model</caption>\n",
       "<tr>\n",
       "     <td></td>       <th>coef</th>     <th>std err</th>      <th>t</th>       <th>P>|t|</th>     <th>95.0% Conf. Int.</th>   \n",
       "</tr>\n",
       "<tr>\n",
       "  <th>Const</th>  <td>6.3103e-05</td> <td>1.892e-05</td> <td>    3.335</td> <td>8.540e-04</td> <td>[2.601e-05,1.002e-04]</td>\n",
       "</tr>\n",
       "<tr>\n",
       "  <th>CNY[1]</th> <td>    0.0740</td> <td>2.933e-02</td> <td>    2.523</td> <td>1.165e-02</td>  <td>[1.650e-02,  0.131]</td> \n",
       "</tr>\n",
       "<tr>\n",
       "  <th>CNY[3]</th> <td>    0.0488</td> <td>2.428e-02</td> <td>    2.011</td> <td>4.429e-02</td> <td>[1.247e-03,9.642e-02]</td>\n",
       "</tr>\n",
       "</table>\n",
       "<table class=\"simpletable\">\n",
       "<caption>Volatility Model</caption>\n",
       "<tr>\n",
       "      <td></td>        <th>coef</th>     <th>std err</th>      <th>t</th>        <th>P>|t|</th>     <th>95.0% Conf. Int.</th>   \n",
       "</tr>\n",
       "<tr>\n",
       "  <th>omega</th>    <td>1.3604e-07</td> <td>1.116e-11</td> <td>1.218e+04</td>    <td>0.000</td>   <td>[1.360e-07,1.361e-07]</td>\n",
       "</tr>\n",
       "<tr>\n",
       "  <th>alpha[1]</th> <td>    0.1000</td> <td>3.404e-02</td> <td>    2.938</td>  <td>3.306e-03</td>  <td>[3.328e-02,  0.167]</td> \n",
       "</tr>\n",
       "<tr>\n",
       "  <th>beta[1]</th>  <td>    0.8800</td> <td>3.032e-02</td> <td>   29.023</td> <td>3.399e-185</td>   <td>[  0.821,  0.939]</td>  \n",
       "</tr>\n",
       "</table><br/><br/>Covariance estimator: robust<br/>WARNING: The optimizer did not indicate successful convergence. The message was Inequality constraints incompatible.<br/>See convergence_flag.<br/>"
      ],
      "text/plain": [
       "<class 'statsmodels.iolib.summary.Summary'>\n",
       "\"\"\"\n",
       "                           AR - GARCH Model Results                           \n",
       "==============================================================================\n",
       "Dep. Variable:                    CNY   R-squared:                       0.008\n",
       "Mean Model:                        AR   Adj. R-squared:                  0.007\n",
       "Vol Model:                      GARCH   Log-Likelihood:                8205.41\n",
       "Distribution:                  Normal   AIC:                          -16398.8\n",
       "Method:            Maximum Likelihood   BIC:                          -16365.9\n",
       "                                        No. Observations:                 1775\n",
       "Date:                Mon, Nov 27 2023   Df Residuals:                     1772\n",
       "Time:                        15:49:13   Df Model:                            3\n",
       "                                 Mean Model                                 \n",
       "============================================================================\n",
       "                 coef    std err          t      P>|t|      95.0% Conf. Int.\n",
       "----------------------------------------------------------------------------\n",
       "Const      6.3103e-05  1.892e-05      3.335  8.540e-04 [2.601e-05,1.002e-04]\n",
       "CNY[1]         0.0740  2.933e-02      2.523  1.165e-02   [1.650e-02,  0.131]\n",
       "CNY[3]         0.0488  2.428e-02      2.011  4.429e-02 [1.247e-03,9.642e-02]\n",
       "                              Volatility Model                              \n",
       "============================================================================\n",
       "                 coef    std err          t      P>|t|      95.0% Conf. Int.\n",
       "----------------------------------------------------------------------------\n",
       "omega      1.3604e-07  1.116e-11  1.218e+04      0.000 [1.360e-07,1.361e-07]\n",
       "alpha[1]       0.1000  3.404e-02      2.938  3.306e-03   [3.328e-02,  0.167]\n",
       "beta[1]        0.8800  3.032e-02     29.023 3.399e-185     [  0.821,  0.939]\n",
       "============================================================================\n",
       "\n",
       "Covariance estimator: robust\n",
       "WARNING: The optimizer did not indicate successful convergence. The message was Inequality constraints incompatible.\n",
       "See convergence_flag.\n",
       "\n",
       "\"\"\""
      ]
     },
     "execution_count": 162,
     "metadata": {},
     "output_type": "execute_result"
    }
   ],
   "source": [
    "#AR_GARCH model\n",
    "am = arch.arch_model(fc.ret_data['CNY'],mean='AR',lags=[1,3],vol='GARCH',p=1,o=0,q=1)\n",
    "res = am.fit()\n",
    "res.summary()"
   ]
  },
  {
   "cell_type": "code",
   "execution_count": 164,
   "metadata": {},
   "outputs": [
    {
     "data": {
      "text/html": [
       "<div>\n",
       "<style scoped>\n",
       "    .dataframe tbody tr th:only-of-type {\n",
       "        vertical-align: middle;\n",
       "    }\n",
       "\n",
       "    .dataframe tbody tr th {\n",
       "        vertical-align: top;\n",
       "    }\n",
       "\n",
       "    .dataframe thead th {\n",
       "        text-align: right;\n",
       "    }\n",
       "</style>\n",
       "<table border=\"1\" class=\"dataframe\">\n",
       "  <thead>\n",
       "    <tr style=\"text-align: right;\">\n",
       "      <th></th>\n",
       "      <th>lb_stat</th>\n",
       "      <th>lb_pvalue</th>\n",
       "    </tr>\n",
       "  </thead>\n",
       "  <tbody>\n",
       "    <tr>\n",
       "      <th>1</th>\n",
       "      <td>0.029989</td>\n",
       "      <td>0.862516</td>\n",
       "    </tr>\n",
       "    <tr>\n",
       "      <th>2</th>\n",
       "      <td>0.569046</td>\n",
       "      <td>0.752373</td>\n",
       "    </tr>\n",
       "    <tr>\n",
       "      <th>3</th>\n",
       "      <td>0.807215</td>\n",
       "      <td>0.847740</td>\n",
       "    </tr>\n",
       "    <tr>\n",
       "      <th>4</th>\n",
       "      <td>0.962513</td>\n",
       "      <td>0.915426</td>\n",
       "    </tr>\n",
       "    <tr>\n",
       "      <th>5</th>\n",
       "      <td>1.559837</td>\n",
       "      <td>0.906063</td>\n",
       "    </tr>\n",
       "    <tr>\n",
       "      <th>6</th>\n",
       "      <td>4.587955</td>\n",
       "      <td>0.597636</td>\n",
       "    </tr>\n",
       "    <tr>\n",
       "      <th>7</th>\n",
       "      <td>4.606020</td>\n",
       "      <td>0.707916</td>\n",
       "    </tr>\n",
       "    <tr>\n",
       "      <th>8</th>\n",
       "      <td>4.609410</td>\n",
       "      <td>0.798390</td>\n",
       "    </tr>\n",
       "    <tr>\n",
       "      <th>9</th>\n",
       "      <td>5.127259</td>\n",
       "      <td>0.823077</td>\n",
       "    </tr>\n",
       "    <tr>\n",
       "      <th>10</th>\n",
       "      <td>8.846089</td>\n",
       "      <td>0.546770</td>\n",
       "    </tr>\n",
       "    <tr>\n",
       "      <th>11</th>\n",
       "      <td>9.310253</td>\n",
       "      <td>0.593278</td>\n",
       "    </tr>\n",
       "    <tr>\n",
       "      <th>12</th>\n",
       "      <td>10.484151</td>\n",
       "      <td>0.573565</td>\n",
       "    </tr>\n",
       "    <tr>\n",
       "      <th>13</th>\n",
       "      <td>14.230075</td>\n",
       "      <td>0.357843</td>\n",
       "    </tr>\n",
       "    <tr>\n",
       "      <th>14</th>\n",
       "      <td>15.176952</td>\n",
       "      <td>0.366166</td>\n",
       "    </tr>\n",
       "    <tr>\n",
       "      <th>15</th>\n",
       "      <td>15.236426</td>\n",
       "      <td>0.434525</td>\n",
       "    </tr>\n",
       "  </tbody>\n",
       "</table>\n",
       "</div>"
      ],
      "text/plain": [
       "      lb_stat  lb_pvalue\n",
       "1    0.029989   0.862516\n",
       "2    0.569046   0.752373\n",
       "3    0.807215   0.847740\n",
       "4    0.962513   0.915426\n",
       "5    1.559837   0.906063\n",
       "6    4.587955   0.597636\n",
       "7    4.606020   0.707916\n",
       "8    4.609410   0.798390\n",
       "9    5.127259   0.823077\n",
       "10   8.846089   0.546770\n",
       "11   9.310253   0.593278\n",
       "12  10.484151   0.573565\n",
       "13  14.230075   0.357843\n",
       "14  15.176952   0.366166\n",
       "15  15.236426   0.434525"
      ]
     },
     "execution_count": 164,
     "metadata": {},
     "output_type": "execute_result"
    }
   ],
   "source": [
    "#标准化残差做Ljung-Box test\n",
    "lb_test(res.std_resid.dropna(),lags=15)"
   ]
  },
  {
   "cell_type": "code",
   "execution_count": 165,
   "metadata": {},
   "outputs": [
    {
     "data": {
      "text/plain": [
       "[<matplotlib.lines.Line2D at 0x1c1ecc78f40>]"
      ]
     },
     "execution_count": 165,
     "metadata": {},
     "output_type": "execute_result"
    },
    {
     "data": {
      "image/png": "[encoded data removed]",
      "text/plain": [
       "<Figure size 432x288 with 1 Axes>"
      ]
     },
     "metadata": {
      "needs_background": "light"
     },
     "output_type": "display_data"
    }
   ],
   "source": [
    "plt.plot(res.std_resid)"
   ]
  }
 ],
 "metadata": {
  "kernelspec": {
   "display_name": "base",
   "language": "python",
   "name": "python3"
  },
  "language_info": {
   "codemirror_mode": {
    "name": "ipython",
    "version": 3
   },
   "file_extension": ".py",
   "mimetype": "text/x-python",
   "name": "python",
   "nbconvert_exporter": "python",
   "pygments_lexer": "ipython3",
   "version": "3.9.12"
  }
 },
 "nbformat": 4,
 "nbformat_minor": 2
}
